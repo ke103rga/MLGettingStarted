{
 "cells": [
  {
   "cell_type": "code",
   "execution_count": 1,
   "id": "09c039e0",
   "metadata": {},
   "outputs": [],
   "source": [
    "import numpy as np\n",
    "import pandas as pd\n",
    "from sklearn.preprocessing import StandardScaler\n",
    "from sklearn.decomposition import PCA\n",
    "\n",
    "%matplotlib inline\n",
    "import seaborn as sns\n",
    "from matplotlib import pyplot as plt"
   ]
  },
  {
   "cell_type": "markdown",
   "id": "73d9c5dc",
   "metadata": {},
   "source": [
    "# Data"
   ]
  },
  {
   "cell_type": "code",
   "execution_count": 2,
   "id": "652a86cb",
   "metadata": {},
   "outputs": [],
   "source": [
    "PATH_TO_DATA = \"D:\\\\DSCourse\\\\KaggleCompetitions\\\\Data\\\\SamsungRecognitionData\\\\UCI_HAR_Dataset\\\\\"\n",
    "ALT_PATH_TO_DATA = \"C:\\\\Users\\\\Виктория\\\\PycharmProjects\\\\TextCorrector\\\\Data\\\\SamsungRecognitionData\\\\UCI_HAR_Dataset\\\\UCI_HAR_Dataset\\\\\"\n",
    "\n",
    "X_train = np.loadtxt(f\"{ALT_PATH_TO_DATA}train\\\\X_train.txt\")\n",
    "y_train = np.loadtxt(f\"{ALT_PATH_TO_DATA}train\\\\y_train.txt\").astype(int)\n",
    "\n",
    "X_test = np.loadtxt(f\"{ALT_PATH_TO_DATA}test\\\\X_test.txt\")\n",
    "y_test = np.loadtxt(f\"{ALT_PATH_TO_DATA}test\\\\y_test.txt\").astype(int)"
   ]
  },
  {
   "cell_type": "code",
   "execution_count": 3,
   "id": "fcc83240",
   "metadata": {},
   "outputs": [
    {
     "name": "stdout",
     "output_type": "stream",
     "text": [
      "X data dimensions:\n",
      "(7352, 561) (2947, 561)\n",
      "\n",
      "y data dimensions:\n",
      "(7352,) (2947,)\n"
     ]
    }
   ],
   "source": [
    "print(\"X data dimensions:\")\n",
    "print(X_train.shape, X_test.shape, end=\"\\n\\n\")\n",
    "\n",
    "print(\"y data dimensions:\")\n",
    "print(y_train.shape, y_test.shape)"
   ]
  },
  {
   "cell_type": "markdown",
   "id": "3a99d4c0",
   "metadata": {},
   "source": [
    "For clustering we don't need in vectors of answers. So we will work with merged train and test data."
   ]
  },
  {
   "cell_type": "code",
   "execution_count": 4,
   "id": "1c2ab688",
   "metadata": {},
   "outputs": [
    {
     "name": "stdout",
     "output_type": "stream",
     "text": [
      "The shape of X data after nerging the X_train and X_test: (10299, 561)\n",
      "The shape of X data after nerging the X_train and X_test: (10299,)\n"
     ]
    }
   ],
   "source": [
    "X = np.concatenate((X_train, X_test), axis=0)\n",
    "print(f\"The shape of X data after nerging the X_train and X_test: {X.shape}\")\n",
    "\n",
    "y = np.concatenate((y_train, y_test), axis=0)\n",
    "print(f\"The shape of X data after nerging the X_train and X_test: {y.shape}\")"
   ]
  },
  {
   "cell_type": "code",
   "execution_count": 5,
   "id": "a1d5846b",
   "metadata": {},
   "outputs": [
    {
     "data": {
      "text/plain": [
       "array([1, 2, 3, 4, 5, 6])"
      ]
     },
     "execution_count": 5,
     "metadata": {},
     "output_type": "execute_result"
    }
   ],
   "source": [
    "np.unique(y_train)"
   ]
  },
  {
   "cell_type": "markdown",
   "id": "69dc7e3d",
   "metadata": {},
   "source": [
    "These labels correspond to:\n",
    "1 – walking\n",
    "2 – walking upstairs\n",
    "3 – walking downstairs\n",
    "4 – sitting\n",
    "5 – standing\n",
    "6 – laying down"
   ]
  },
  {
   "cell_type": "markdown",
   "id": "7555c9b8",
   "metadata": {},
   "source": [
    "# Preprocessing"
   ]
  },
  {
   "cell_type": "code",
   "execution_count": 6,
   "id": "bdc7697e",
   "metadata": {},
   "outputs": [],
   "source": [
    "scaler = StandardScaler()\n",
    "X_scaled = scaler.fit_transform(X)"
   ]
  },
  {
   "cell_type": "code",
   "execution_count": 7,
   "id": "9fd14c1e",
   "metadata": {},
   "outputs": [
    {
     "data": {
      "text/plain": [
       "PCA(n_components=560, random_state=17)"
      ]
     },
     "execution_count": 7,
     "metadata": {},
     "output_type": "execute_result"
    }
   ],
   "source": [
    "pca_test = PCA(n_components=X.shape[1]-1, random_state=17)\n",
    "pca_test.fit(X_scaled)"
   ]
  },
  {
   "cell_type": "code",
   "execution_count": 8,
   "id": "2db998d3",
   "metadata": {},
   "outputs": [
    {
     "data": {
      "text/plain": [
       "<matplotlib.lines.Line2D at 0x25405f0a4f0>"
      ]
     },
     "execution_count": 8,
     "metadata": {},
     "output_type": "execute_result"
    },
    {
     "data": {
      "image/png": "[encoded data removed]",
      "text/plain": [
       "<Figure size 432x288 with 1 Axes>"
      ]
     },
     "metadata": {},
     "output_type": "display_data"
    }
   ],
   "source": [
    "sns.set(style=\"whitegrid\")\n",
    "plt.plot(np.cumsum(pca_test.explained_variance_ratio_))\n",
    "plt.xlabel('number of components')\n",
    "plt.ylabel('cumulative explained variance')\n",
    "plt.axvline(linewidth=4, color='r', linestyle = '--', x=65, ymin=0, ymax=1)\n",
    "#display(plt.show())"
   ]
  },
  {
   "cell_type": "code",
   "execution_count": 9,
   "id": "a2743624",
   "metadata": {},
   "outputs": [
    {
     "name": "stdout",
     "output_type": "stream",
     "text": [
      "After applying pca to scaed data the shape of X is: (10299, 65)\n"
     ]
    }
   ],
   "source": [
    "pca = PCA(n_components=65, random_state=17)\n",
    "X_pca_scaled = pca.fit_transform(X_scaled)\n",
    "print(f\"After applying pca to scaed data the shape of X is: {X_pca_scaled.shape}\")"
   ]
  },
  {
   "cell_type": "markdown",
   "id": "e0b51735",
   "metadata": {},
   "source": [
    "Visualization of new dataset with only two main komponents. It's explain only 51% of variance."
   ]
  },
  {
   "cell_type": "code",
   "execution_count": 10,
   "id": "d3bec44f",
   "metadata": {},
   "outputs": [],
   "source": [
    "vis_pca = PCA(n_components=2, random_state=17)\n",
    "X_vispca_scaled = vis_pca.fit_transform(X_scaled)"
   ]
  },
  {
   "cell_type": "code",
   "execution_count": 11,
   "id": "e55ab7ca",
   "metadata": {},
   "outputs": [
    {
     "data": {
      "text/plain": [
       "<AxesSubplot:>"
      ]
     },
     "execution_count": 11,
     "metadata": {},
     "output_type": "execute_result"
    },
    {
     "data": {
      "image/png": "[encoded data removed]",
      "text/plain": [
       "<Figure size 432x288 with 1 Axes>"
      ]
     },
     "metadata": {},
     "output_type": "display_data"
    }
   ],
   "source": [
    "sns.scatterplot(x=X_vispca_scaled.T[0], y=X_vispca_scaled.T[1])"
   ]
  },
  {
   "cell_type": "markdown",
   "id": "80fc4164",
   "metadata": {},
   "source": [
    "## Search the optimal amount of clusters"
   ]
  },
  {
   "cell_type": "code",
   "execution_count": 12,
   "id": "c8168972",
   "metadata": {},
   "outputs": [],
   "source": [
    "from sklearn.cluster import KMeans"
   ]
  },
  {
   "cell_type": "code",
   "execution_count": 14,
   "id": "1c86c5d7",
   "metadata": {},
   "outputs": [],
   "source": [
    "class AmountOfClustersSearch:\n",
    "    \n",
    "    \n",
    "    def __init__(self, clust_model, amount_of_clusters, train_data, param=None):\n",
    "        self.models_params = {\"KMeans\": \"inertia_\", \"AgglomerativeClustering\": \"distances_\"}\n",
    "        self.results = []\n",
    "        \n",
    "        if param and self.models_params[clust_model.__name__] == param:\n",
    "            self.param = param\n",
    "        elif clust_model.__name__ in self.models_params.keys():\n",
    "            self.param = self.models_params[clust_model.__name__]\n",
    "        else:\n",
    "            raise ValueError(f\"You need to specify the attribute for class {clust_model}\")\n",
    "            \n",
    "        for n_clusters in amount_of_clusters:\n",
    "            self.model = clust_model(n_clusters=n_clusters)\n",
    "            self.model.fit(train_data)\n",
    "            self.results.append({\"n_clusters\": n_clusters, \"main_param\": getattr(self.model, self.param)})\n",
    "        self.results = pd.DataFrame(self.results)\n",
    "        \n",
    "        \n",
    "    def show_elbow_graph(self, figsize=(8, 6), x_vline=5, ylim=None):\n",
    "        plt.figure(figsize=figsize)\n",
    "        sns.lineplot(data=results, x=\"n_clusters\", y=\"main_param\")\n",
    "        plt.axvline(linewidth=4, color='r', linestyle = '--', x=x_vline)\n",
    "        if ylim:\n",
    "            plt.ylim(ylim)\n",
    "                \n",
    "                \n",
    "    def show_differencies_graph(self, figsize=(8, 6), x_vline=5, ylim=None, xlim=None):\n",
    "        \n",
    "        if not \"differensies\" in self.results.columns:\n",
    "            inertias = self.results[\"main_param\"].tolist()\n",
    "            differensies = [inertias[i-1] - inertias[i] for i in range(1, len(inertias))]\n",
    "            differensies = list(map(lambda dif: round(dif, 2), differensies))\n",
    "            self.results[\"differensies\"] = [0] + differensies\n",
    "            \n",
    "        plt.figure(figsize=figsize)\n",
    "        sns.lineplot(data=results, x=\"n_clusters\", y=\"differensies\")\n",
    "        if ylim:\n",
    "            plt.ylim(ylim)\n",
    "        if xlim:\n",
    "            plt.xlim(xlim)\n",
    "        plt.axvline(linewidth=4, color='r', linestyle = '--', x=x_vline)"
   ]
  },
  {
   "cell_type": "code",
   "execution_count": 15,
   "id": "b1c0d838",
   "metadata": {},
   "outputs": [],
   "source": [
    "amount_of_clusters = list(range(1, 11)) # Let's start by checking only 10 clasters.\n",
    "results = []\n",
    "for n_clusters in amount_of_clusters:\n",
    "    kmeans = KMeans(n_clusters=n_clusters)\n",
    "    kmeans.fit(X_pca_scaled)\n",
    "    results.append({\"n_clusters\": n_clusters, \"inertia\": kmeans.inertia_})\n",
    "    \n",
    "results = pd.DataFrame(results)"
   ]
  },
  {
   "cell_type": "code",
   "execution_count": 16,
   "id": "ab48203c",
   "metadata": {},
   "outputs": [
    {
     "data": {
      "text/plain": [
       "(1500000.0, 3500000.0)"
      ]
     },
     "execution_count": 16,
     "metadata": {},
     "output_type": "execute_result"
    },
    {
     "data": {
      "image/png": "[encoded data removed]",
      "text/plain": [
       "<Figure size 576x432 with 1 Axes>"
      ]
     },
     "metadata": {},
     "output_type": "display_data"
    }
   ],
   "source": [
    "plt.figure(figsize=(8, 6))\n",
    "sns.lineplot(data=results, x=\"n_clusters\", y=\"inertia\")\n",
    "plt.axvline(linewidth=4, color='r', linestyle = '--', x=6)\n",
    "plt.ylim([1.5*10**6, 3.5*10**6])"
   ]
  },
  {
   "cell_type": "code",
   "execution_count": 17,
   "id": "9261c461",
   "metadata": {},
   "outputs": [],
   "source": [
    "inertias = results[\"inertia\"].tolist()\n",
    "differensies = [inertias[i-1] - inertias[i] for i in range(1, len(inertias))]\n",
    "differensies = list(map(lambda dif: round(dif, 2), differensies))\n",
    "results[\"differensies\"] = [0] + differensies"
   ]
  },
  {
   "cell_type": "code",
   "execution_count": 18,
   "id": "d916e025",
   "metadata": {},
   "outputs": [
    {
     "data": {
      "text/plain": [
       "<matplotlib.lines.Line2D at 0x25401f532b0>"
      ]
     },
     "execution_count": 18,
     "metadata": {},
     "output_type": "execute_result"
    },
    {
     "data": {
      "image/png": "[encoded data removed]",
      "text/plain": [
       "<Figure size 576x432 with 1 Axes>"
      ]
     },
     "metadata": {},
     "output_type": "display_data"
    }
   ],
   "source": [
    "plt.figure(figsize=(8, 6))\n",
    "sns.lineplot(data=results, x=\"n_clusters\", y=\"differensies\")\n",
    "plt.xlim([2, 10])\n",
    "plt.ylim([0, 0.6*10**6])\n",
    "plt.axvline(linewidth=4, color='r', linestyle = '--', x=6)"
   ]
  },
  {
   "cell_type": "markdown",
   "id": "7863a8fc",
   "metadata": {},
   "source": [
    "We can make a hypothesis that 4 is an optimal amount of clusters. But firstly lets try to separate objects into 6 clusters.\n",
    "Because it's amount of answer's classes, so it's logically. "
   ]
  },
  {
   "cell_type": "code",
   "execution_count": 19,
   "id": "37b25ccd",
   "metadata": {},
   "outputs": [],
   "source": [
    "log_kmeans = KMeans(n_clusters=6, random_state=17, n_init=100)\n",
    "predictions = log_kmeans.fit_predict(X_pca_scaled)\n",
    "vis_predictios = log_kmeans.fit_predict(X_vispca_scaled)"
   ]
  },
  {
   "cell_type": "code",
   "execution_count": 20,
   "id": "389d779e",
   "metadata": {},
   "outputs": [],
   "source": [
    "two_comp_data = pd.DataFrame(columns=[\"1_comp\", \"2_comp\", \"cluster\"], \n",
    "                             data = np.hstack([X_vispca_scaled, vis_predictios.reshape(-1, 1)]))\n",
    "pca_data = pd.DataFrame(columns=[f\"{i}_comp\" for i in range(1, 66)].append(\"cluster\"), \n",
    "                             data = np.hstack([X_pca_scaled, predictions.reshape(-1, 1)]))"
   ]
  },
  {
   "cell_type": "code",
   "execution_count": 21,
   "id": "cd5f8551",
   "metadata": {},
   "outputs": [
    {
     "data": {
      "text/plain": [
       "<AxesSubplot:xlabel='1_comp', ylabel='2_comp'>"
      ]
     },
     "execution_count": 21,
     "metadata": {},
     "output_type": "execute_result"
    },
    {
     "data": {
      "image/png": "[encoded data removed]",
      "text/plain": [
       "<Figure size 432x288 with 1 Axes>"
      ]
     },
     "metadata": {},
     "output_type": "display_data"
    }
   ],
   "source": [
    "sns.scatterplot(data=two_comp_data, x=\"1_comp\", y=\"2_comp\", hue=\"cluster\",s=20, cmap='viridis')"
   ]
  },
  {
   "cell_type": "code",
   "execution_count": 22,
   "id": "c8035f45",
   "metadata": {},
   "outputs": [],
   "source": [
    "tab = pd.crosstab(y, predictions, margins=True)\n",
    "tab.index = ['walking', 'going up the stairs',\n",
    "            'going down the stairs', 'sitting', 'standing', 'laying', 'all']\n",
    "tab.columns = ['cluster' + str(i + 1) for i in range(6)] + ['all']"
   ]
  },
  {
   "cell_type": "code",
   "execution_count": 23,
   "id": "7f40d7a0",
   "metadata": {},
   "outputs": [
    {
     "data": {
      "text/html": [
       "<div>\n",
       "<style scoped>\n",
       "    .dataframe tbody tr th:only-of-type {\n",
       "        vertical-align: middle;\n",
       "    }\n",
       "\n",
       "    .dataframe tbody tr th {\n",
       "        vertical-align: top;\n",
       "    }\n",
       "\n",
       "    .dataframe thead th {\n",
       "        text-align: right;\n",
       "    }\n",
       "</style>\n",
       "<table border=\"1\" class=\"dataframe\">\n",
       "  <thead>\n",
       "    <tr style=\"text-align: right;\">\n",
       "      <th></th>\n",
       "      <th>cluster1</th>\n",
       "      <th>cluster2</th>\n",
       "      <th>cluster3</th>\n",
       "      <th>cluster4</th>\n",
       "      <th>cluster5</th>\n",
       "      <th>cluster6</th>\n",
       "      <th>all</th>\n",
       "      <th>sep_procent</th>\n",
       "    </tr>\n",
       "  </thead>\n",
       "  <tbody>\n",
       "    <tr>\n",
       "      <th>walking</th>\n",
       "      <td>904</td>\n",
       "      <td>0</td>\n",
       "      <td>0</td>\n",
       "      <td>0</td>\n",
       "      <td>78</td>\n",
       "      <td>740</td>\n",
       "      <td>1722</td>\n",
       "      <td>52.50</td>\n",
       "    </tr>\n",
       "    <tr>\n",
       "      <th>going up the stairs</th>\n",
       "      <td>1242</td>\n",
       "      <td>0</td>\n",
       "      <td>2</td>\n",
       "      <td>0</td>\n",
       "      <td>5</td>\n",
       "      <td>295</td>\n",
       "      <td>1544</td>\n",
       "      <td>80.44</td>\n",
       "    </tr>\n",
       "    <tr>\n",
       "      <th>going down the stairs</th>\n",
       "      <td>320</td>\n",
       "      <td>0</td>\n",
       "      <td>0</td>\n",
       "      <td>0</td>\n",
       "      <td>196</td>\n",
       "      <td>890</td>\n",
       "      <td>1406</td>\n",
       "      <td>63.30</td>\n",
       "    </tr>\n",
       "    <tr>\n",
       "      <th>sitting</th>\n",
       "      <td>1</td>\n",
       "      <td>1235</td>\n",
       "      <td>450</td>\n",
       "      <td>91</td>\n",
       "      <td>0</td>\n",
       "      <td>0</td>\n",
       "      <td>1777</td>\n",
       "      <td>69.50</td>\n",
       "    </tr>\n",
       "    <tr>\n",
       "      <th>standing</th>\n",
       "      <td>0</td>\n",
       "      <td>1344</td>\n",
       "      <td>562</td>\n",
       "      <td>0</td>\n",
       "      <td>0</td>\n",
       "      <td>0</td>\n",
       "      <td>1906</td>\n",
       "      <td>70.51</td>\n",
       "    </tr>\n",
       "    <tr>\n",
       "      <th>laying</th>\n",
       "      <td>5</td>\n",
       "      <td>53</td>\n",
       "      <td>329</td>\n",
       "      <td>1557</td>\n",
       "      <td>0</td>\n",
       "      <td>0</td>\n",
       "      <td>1944</td>\n",
       "      <td>80.09</td>\n",
       "    </tr>\n",
       "    <tr>\n",
       "      <th>all</th>\n",
       "      <td>2472</td>\n",
       "      <td>2632</td>\n",
       "      <td>1343</td>\n",
       "      <td>1648</td>\n",
       "      <td>279</td>\n",
       "      <td>1925</td>\n",
       "      <td>10299</td>\n",
       "      <td>25.56</td>\n",
       "    </tr>\n",
       "  </tbody>\n",
       "</table>\n",
       "</div>"
      ],
      "text/plain": [
       "                       cluster1  cluster2  cluster3  cluster4  cluster5  \\\n",
       "walking                     904         0         0         0        78   \n",
       "going up the stairs        1242         0         2         0         5   \n",
       "going down the stairs       320         0         0         0       196   \n",
       "sitting                       1      1235       450        91         0   \n",
       "standing                      0      1344       562         0         0   \n",
       "laying                        5        53       329      1557         0   \n",
       "all                        2472      2632      1343      1648       279   \n",
       "\n",
       "                       cluster6    all  sep_procent  \n",
       "walking                     740   1722        52.50  \n",
       "going up the stairs         295   1544        80.44  \n",
       "going down the stairs       890   1406        63.30  \n",
       "sitting                       0   1777        69.50  \n",
       "standing                      0   1906        70.51  \n",
       "laying                        0   1944        80.09  \n",
       "all                        1925  10299        25.56  "
      ]
     },
     "execution_count": 23,
     "metadata": {},
     "output_type": "execute_result"
    }
   ],
   "source": [
    "tab[\"max_amount\"] = tab.loc[:, :\"cluster6\"].max(numeric_only=True, axis = 1)\n",
    "tab[\"sep_procent\"] = round(tab[\"max_amount\"] / tab[\"all\"] * 100, 2)\n",
    "tab = tab.drop(columns=[\"max_amount\"])\n",
    "tab"
   ]
  },
  {
   "cell_type": "markdown",
   "id": "d8028abb",
   "metadata": {},
   "source": [
    "As we can see, 6 clusters, choosed by KMeans algorithm separate data not really well. Let's try AgglomerativeClustering"
   ]
  },
  {
   "cell_type": "code",
   "execution_count": 24,
   "id": "259d220b",
   "metadata": {},
   "outputs": [],
   "source": [
    "from sklearn.cluster import AgglomerativeClustering"
   ]
  },
  {
   "cell_type": "code",
   "execution_count": 25,
   "id": "bb630eed",
   "metadata": {},
   "outputs": [],
   "source": [
    "ag = AgglomerativeClustering(n_clusters=6)"
   ]
  },
  {
   "cell_type": "code",
   "execution_count": 26,
   "id": "58fbd30e",
   "metadata": {},
   "outputs": [
    {
     "data": {
      "text/html": [
       "<div>\n",
       "<style scoped>\n",
       "    .dataframe tbody tr th:only-of-type {\n",
       "        vertical-align: middle;\n",
       "    }\n",
       "\n",
       "    .dataframe tbody tr th {\n",
       "        vertical-align: top;\n",
       "    }\n",
       "\n",
       "    .dataframe thead th {\n",
       "        text-align: right;\n",
       "    }\n",
       "</style>\n",
       "<table border=\"1\" class=\"dataframe\">\n",
       "  <thead>\n",
       "    <tr style=\"text-align: right;\">\n",
       "      <th></th>\n",
       "      <th>cluster1</th>\n",
       "      <th>cluster2</th>\n",
       "      <th>cluster3</th>\n",
       "      <th>cluster4</th>\n",
       "      <th>cluster5</th>\n",
       "      <th>cluster6</th>\n",
       "      <th>all</th>\n",
       "      <th>sep_procent</th>\n",
       "    </tr>\n",
       "  </thead>\n",
       "  <tbody>\n",
       "    <tr>\n",
       "      <th>walking</th>\n",
       "      <td>225</td>\n",
       "      <td>1272</td>\n",
       "      <td>0</td>\n",
       "      <td>0</td>\n",
       "      <td>225</td>\n",
       "      <td>0</td>\n",
       "      <td>1722</td>\n",
       "      <td>73.87</td>\n",
       "    </tr>\n",
       "    <tr>\n",
       "      <th>going up the stairs</th>\n",
       "      <td>30</td>\n",
       "      <td>623</td>\n",
       "      <td>0</td>\n",
       "      <td>0</td>\n",
       "      <td>891</td>\n",
       "      <td>0</td>\n",
       "      <td>1544</td>\n",
       "      <td>57.71</td>\n",
       "    </tr>\n",
       "    <tr>\n",
       "      <th>going down the stairs</th>\n",
       "      <td>786</td>\n",
       "      <td>458</td>\n",
       "      <td>0</td>\n",
       "      <td>0</td>\n",
       "      <td>162</td>\n",
       "      <td>0</td>\n",
       "      <td>1406</td>\n",
       "      <td>55.90</td>\n",
       "    </tr>\n",
       "    <tr>\n",
       "      <th>sitting</th>\n",
       "      <td>0</td>\n",
       "      <td>0</td>\n",
       "      <td>503</td>\n",
       "      <td>13</td>\n",
       "      <td>0</td>\n",
       "      <td>1261</td>\n",
       "      <td>1777</td>\n",
       "      <td>70.96</td>\n",
       "    </tr>\n",
       "    <tr>\n",
       "      <th>standing</th>\n",
       "      <td>0</td>\n",
       "      <td>0</td>\n",
       "      <td>719</td>\n",
       "      <td>0</td>\n",
       "      <td>0</td>\n",
       "      <td>1187</td>\n",
       "      <td>1906</td>\n",
       "      <td>62.28</td>\n",
       "    </tr>\n",
       "    <tr>\n",
       "      <th>laying</th>\n",
       "      <td>0</td>\n",
       "      <td>0</td>\n",
       "      <td>57</td>\n",
       "      <td>1818</td>\n",
       "      <td>0</td>\n",
       "      <td>69</td>\n",
       "      <td>1944</td>\n",
       "      <td>93.52</td>\n",
       "    </tr>\n",
       "    <tr>\n",
       "      <th>all</th>\n",
       "      <td>1041</td>\n",
       "      <td>2353</td>\n",
       "      <td>1279</td>\n",
       "      <td>1831</td>\n",
       "      <td>1278</td>\n",
       "      <td>2517</td>\n",
       "      <td>10299</td>\n",
       "      <td>24.44</td>\n",
       "    </tr>\n",
       "  </tbody>\n",
       "</table>\n",
       "</div>"
      ],
      "text/plain": [
       "                       cluster1  cluster2  cluster3  cluster4  cluster5  \\\n",
       "walking                     225      1272         0         0       225   \n",
       "going up the stairs          30       623         0         0       891   \n",
       "going down the stairs       786       458         0         0       162   \n",
       "sitting                       0         0       503        13         0   \n",
       "standing                      0         0       719         0         0   \n",
       "laying                        0         0        57      1818         0   \n",
       "all                        1041      2353      1279      1831      1278   \n",
       "\n",
       "                       cluster6    all  sep_procent  \n",
       "walking                       0   1722        73.87  \n",
       "going up the stairs           0   1544        57.71  \n",
       "going down the stairs         0   1406        55.90  \n",
       "sitting                    1261   1777        70.96  \n",
       "standing                   1187   1906        62.28  \n",
       "laying                       69   1944        93.52  \n",
       "all                        2517  10299        24.44  "
      ]
     },
     "execution_count": 26,
     "metadata": {},
     "output_type": "execute_result"
    }
   ],
   "source": [
    "ag_predictions = ag.fit_predict(X_pca_scaled)\n",
    "ag_tab = pd.crosstab(y, ag_predictions, margins=True)\n",
    "ag_tab.index = ['walking', 'going up the stairs',\n",
    "            'going down the stairs', 'sitting', 'standing', 'laying', 'all']\n",
    "ag_tab.columns = ['cluster' + str(i + 1) for i in range(6)] + ['all']\n",
    "ag_tab[\"max_amount\"] = ag_tab.loc[:, :\"cluster6\"].max(numeric_only=True, axis = 1)\n",
    "ag_tab[\"sep_procent\"] = round(ag_tab[\"max_amount\"] / ag_tab[\"all\"] * 100, 2)\n",
    "ag_tab = ag_tab.drop(columns=[\"max_amount\"])\n",
    "ag_tab"
   ]
  },
  {
   "cell_type": "code",
   "execution_count": 27,
   "id": "a9580f9d",
   "metadata": {},
   "outputs": [],
   "source": [
    "from sklearn.metrics import adjusted_rand_score"
   ]
  },
  {
   "cell_type": "code",
   "execution_count": 28,
   "id": "bcf760c7",
   "metadata": {},
   "outputs": [],
   "source": [
    "best_kmeans = KMeans(n_clusters=4, n_init=100)\n",
    "best_predictions = best_kmeans.fit_predict(X_pca_scaled)"
   ]
  },
  {
   "cell_type": "code",
   "execution_count": 29,
   "id": "92f054c4",
   "metadata": {},
   "outputs": [
    {
     "name": "stdout",
     "output_type": "stream",
     "text": [
      "The ARI for kmeans with 6 ckusters: 0.41967784566875505\n",
      "The ARI for AgglomerativeClustering with 6 ckusters: 0.488010997684971\n",
      "The ARI for kmeans with 4 ckusters: 0.2994290901310719\n"
     ]
    }
   ],
   "source": [
    "print(f\"The ARI for kmeans with 6 ckusters: {adjusted_rand_score(y, predictions)}\")\n",
    "print(f\"The ARI for AgglomerativeClustering with 6 ckusters: {adjusted_rand_score(y, ag_predictions)}\")\n",
    "print(f\"The ARI for kmeans with 4 ckusters: {adjusted_rand_score(y, best_predictions)}\")"
   ]
  },
  {
   "cell_type": "code",
   "execution_count": 31,
   "id": "12f7b31d",
   "metadata": {},
   "outputs": [],
   "source": [
    "from sklearn.svm import LinearSVC\n",
    "from sklearn.model_selection import GridSearchCV"
   ]
  },
  {
   "cell_type": "code",
   "execution_count": 30,
   "id": "5165c51b",
   "metadata": {},
   "outputs": [
    {
     "name": "stdout",
     "output_type": "stream",
     "text": [
      "The shape of X_train_scaled: (7352, 561)\n",
      "The shape of X_test_scaled: (2947, 561)\n"
     ]
    }
   ],
   "source": [
    "scaler = StandardScaler()\n",
    "X_train_scaled = scaler.fit_transform(X_train)\n",
    "X_test_scaled = scaler.transform(X_test)\n",
    "print(f\"The shape of X_train_scaled: {X_train_scaled.shape}\")\n",
    "print(f\"The shape of X_test_scaled: {X_test_scaled.shape}\")"
   ]
  },
  {
   "cell_type": "code",
   "execution_count": 33,
   "id": "eb51ed64",
   "metadata": {},
   "outputs": [],
   "source": [
    "svc = LinearSVC(random_state=17)\n",
    "svc_params = {\"C\": [0.001, 0.01, 0.1, 1, 10]}\n",
    "gr_search = GridSearchCV(svc, svc_params, cv=3)"
   ]
  },
  {
   "cell_type": "code",
   "execution_count": 35,
   "id": "545ab9bb",
   "metadata": {},
   "outputs": [
    {
     "name": "stderr",
     "output_type": "stream",
     "text": [
      "C:\\CondaProg\\lib\\site-packages\\sklearn\\svm\\_base.py:1206: ConvergenceWarning: Liblinear failed to converge, increase the number of iterations.\n",
      "  warnings.warn(\n",
      "C:\\CondaProg\\lib\\site-packages\\sklearn\\svm\\_base.py:1206: ConvergenceWarning: Liblinear failed to converge, increase the number of iterations.\n",
      "  warnings.warn(\n",
      "C:\\CondaProg\\lib\\site-packages\\sklearn\\svm\\_base.py:1206: ConvergenceWarning: Liblinear failed to converge, increase the number of iterations.\n",
      "  warnings.warn(\n",
      "C:\\CondaProg\\lib\\site-packages\\sklearn\\svm\\_base.py:1206: ConvergenceWarning: Liblinear failed to converge, increase the number of iterations.\n",
      "  warnings.warn(\n",
      "C:\\CondaProg\\lib\\site-packages\\sklearn\\svm\\_base.py:1206: ConvergenceWarning: Liblinear failed to converge, increase the number of iterations.\n",
      "  warnings.warn(\n",
      "C:\\CondaProg\\lib\\site-packages\\sklearn\\svm\\_base.py:1206: ConvergenceWarning: Liblinear failed to converge, increase the number of iterations.\n",
      "  warnings.warn(\n",
      "C:\\CondaProg\\lib\\site-packages\\sklearn\\svm\\_base.py:1206: ConvergenceWarning: Liblinear failed to converge, increase the number of iterations.\n",
      "  warnings.warn(\n",
      "C:\\CondaProg\\lib\\site-packages\\sklearn\\svm\\_base.py:1206: ConvergenceWarning: Liblinear failed to converge, increase the number of iterations.\n",
      "  warnings.warn(\n",
      "C:\\CondaProg\\lib\\site-packages\\sklearn\\svm\\_base.py:1206: ConvergenceWarning: Liblinear failed to converge, increase the number of iterations.\n",
      "  warnings.warn(\n",
      "C:\\CondaProg\\lib\\site-packages\\sklearn\\svm\\_base.py:1206: ConvergenceWarning: Liblinear failed to converge, increase the number of iterations.\n",
      "  warnings.warn(\n"
     ]
    },
    {
     "data": {
      "text/plain": [
       "GridSearchCV(cv=3, estimator=LinearSVC(random_state=17),\n",
       "             param_grid={'C': [0.001, 0.01, 0.1, 1, 10]})"
      ]
     },
     "execution_count": 35,
     "metadata": {},
     "output_type": "execute_result"
    }
   ],
   "source": [
    "gr_search.fit(X_train_scaled, y_train)"
   ]
  },
  {
   "cell_type": "code",
   "execution_count": 38,
   "id": "739b3591",
   "metadata": {},
   "outputs": [
    {
     "data": {
      "text/plain": [
       "({'C': 0.1}, 0.9382506099134881)"
      ]
     },
     "execution_count": 38,
     "metadata": {},
     "output_type": "execute_result"
    }
   ],
   "source": [
    "gr_search.best_params_, gr_search.best_score_"
   ]
  },
  {
   "cell_type": "code",
   "execution_count": null,
   "id": "e28a59d3",
   "metadata": {},
   "outputs": [],
   "source": []
  },
  {
   "cell_type": "code",
   "execution_count": null,
   "id": "553b64f6",
   "metadata": {},
   "outputs": [],
   "source": []
  },
  {
   "cell_type": "code",
   "execution_count": null,
   "id": "b9afac20",
   "metadata": {},
   "outputs": [],
   "source": []
  },
  {
   "cell_type": "code",
   "execution_count": null,
   "id": "029fdeee",
   "metadata": {},
   "outputs": [],
   "source": []
  },
  {
   "cell_type": "code",
   "execution_count": null,
   "id": "03992b30",
   "metadata": {},
   "outputs": [],
   "source": []
  },
  {
   "cell_type": "code",
   "execution_count": null,
   "id": "bdda2435",
   "metadata": {},
   "outputs": [],
   "source": []
  },
  {
   "cell_type": "code",
   "execution_count": null,
   "id": "2cd37ee2",
   "metadata": {},
   "outputs": [],
   "source": []
  },
  {
   "cell_type": "code",
   "execution_count": null,
   "id": "f7010392",
   "metadata": {},
   "outputs": [],
   "source": []
  },
  {
   "cell_type": "code",
   "execution_count": null,
   "id": "ae364493",
   "metadata": {},
   "outputs": [],
   "source": []
  }
 ],
 "metadata": {
  "kernelspec": {
   "display_name": "Python 3 (ipykernel)",
   "language": "python",
   "name": "python3"
  },
  "language_info": {
   "codemirror_mode": {
    "name": "ipython",
    "version": 3
   },
   "file_extension": ".py",
   "mimetype": "text/x-python",
   "name": "python",
   "nbconvert_exporter": "python",
   "pygments_lexer": "ipython3",
   "version": "3.9.12"
  }
 },
 "nbformat": 4,
 "nbformat_minor": 5
}
