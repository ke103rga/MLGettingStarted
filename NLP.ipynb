{
 "cells": [
  {
   "cell_type": "code",
   "execution_count": 65,
   "id": "f29216a2",
   "metadata": {},
   "outputs": [],
   "source": [
    "import numpy as np\n",
    "import pandas as pd\n",
    "from scipy.sparse import csr_matrix, hstack\n",
    "from sklearn.linear_model import LogisticRegression\n",
    "from sklearn.metrics import roc_auc_score\n",
    "from sklearn.preprocessing import StandardScaler\n",
    "\n",
    "%matplotlib inline\n",
    "import seaborn as sns\n",
    "from matplotlib import pyplot as plt"
   ]
  },
  {
   "cell_type": "markdown",
   "id": "b0ce3390",
   "metadata": {},
   "source": [
    "## Исходные данные"
   ]
  },
  {
   "cell_type": "code",
   "execution_count": 2,
   "id": "10a77e8f",
   "metadata": {},
   "outputs": [],
   "source": [
    "data = pd.read_csv(\"C:\\\\Users\\\\Виктория\\\\PycharmProjects\\\\TextCorrector\\\\Data\\\\NLPData\\\\train.csv\")\n",
    "test_data = pd.read_csv(\"C:\\\\Users\\\\Виктория\\\\PycharmProjects\\\\TextCorrector\\\\Data\\\\NLPData\\\\test.csv\")"
   ]
  },
  {
   "cell_type": "code",
   "execution_count": 3,
   "id": "7f567ce4",
   "metadata": {},
   "outputs": [
    {
     "data": {
      "text/plain": [
       "(7613, 5)"
      ]
     },
     "execution_count": 3,
     "metadata": {},
     "output_type": "execute_result"
    }
   ],
   "source": [
    "data.shape"
   ]
  },
  {
   "cell_type": "code",
   "execution_count": 4,
   "id": "94aab0d9",
   "metadata": {
    "scrolled": true
   },
   "outputs": [
    {
     "data": {
      "text/html": [
       "<div>\n",
       "<style scoped>\n",
       "    .dataframe tbody tr th:only-of-type {\n",
       "        vertical-align: middle;\n",
       "    }\n",
       "\n",
       "    .dataframe tbody tr th {\n",
       "        vertical-align: top;\n",
       "    }\n",
       "\n",
       "    .dataframe thead th {\n",
       "        text-align: right;\n",
       "    }\n",
       "</style>\n",
       "<table border=\"1\" class=\"dataframe\">\n",
       "  <thead>\n",
       "    <tr style=\"text-align: right;\">\n",
       "      <th></th>\n",
       "      <th>id</th>\n",
       "      <th>keyword</th>\n",
       "      <th>location</th>\n",
       "      <th>text</th>\n",
       "      <th>target</th>\n",
       "    </tr>\n",
       "  </thead>\n",
       "  <tbody>\n",
       "    <tr>\n",
       "      <th>0</th>\n",
       "      <td>1</td>\n",
       "      <td>NaN</td>\n",
       "      <td>NaN</td>\n",
       "      <td>Our Deeds are the Reason of this #earthquake M...</td>\n",
       "      <td>1</td>\n",
       "    </tr>\n",
       "    <tr>\n",
       "      <th>1</th>\n",
       "      <td>4</td>\n",
       "      <td>NaN</td>\n",
       "      <td>NaN</td>\n",
       "      <td>Forest fire near La Ronge Sask. Canada</td>\n",
       "      <td>1</td>\n",
       "    </tr>\n",
       "    <tr>\n",
       "      <th>2</th>\n",
       "      <td>5</td>\n",
       "      <td>NaN</td>\n",
       "      <td>NaN</td>\n",
       "      <td>All residents asked to 'shelter in place' are ...</td>\n",
       "      <td>1</td>\n",
       "    </tr>\n",
       "    <tr>\n",
       "      <th>3</th>\n",
       "      <td>6</td>\n",
       "      <td>NaN</td>\n",
       "      <td>NaN</td>\n",
       "      <td>13,000 people receive #wildfires evacuation or...</td>\n",
       "      <td>1</td>\n",
       "    </tr>\n",
       "    <tr>\n",
       "      <th>4</th>\n",
       "      <td>7</td>\n",
       "      <td>NaN</td>\n",
       "      <td>NaN</td>\n",
       "      <td>Just got sent this photo from Ruby #Alaska as ...</td>\n",
       "      <td>1</td>\n",
       "    </tr>\n",
       "  </tbody>\n",
       "</table>\n",
       "</div>"
      ],
      "text/plain": [
       "   id keyword location                                               text  \\\n",
       "0   1     NaN      NaN  Our Deeds are the Reason of this #earthquake M...   \n",
       "1   4     NaN      NaN             Forest fire near La Ronge Sask. Canada   \n",
       "2   5     NaN      NaN  All residents asked to 'shelter in place' are ...   \n",
       "3   6     NaN      NaN  13,000 people receive #wildfires evacuation or...   \n",
       "4   7     NaN      NaN  Just got sent this photo from Ruby #Alaska as ...   \n",
       "\n",
       "   target  \n",
       "0       1  \n",
       "1       1  \n",
       "2       1  \n",
       "3       1  \n",
       "4       1  "
      ]
     },
     "execution_count": 4,
     "metadata": {},
     "output_type": "execute_result"
    }
   ],
   "source": [
    "data.head()"
   ]
  },
  {
   "cell_type": "code",
   "execution_count": 5,
   "id": "bfc8d05e",
   "metadata": {},
   "outputs": [
    {
     "name": "stdout",
     "output_type": "stream",
     "text": [
      "Percent of NAN values in keyword: 0.8%\n",
      "Percent of NAN values in location: 33.27%\n"
     ]
    }
   ],
   "source": [
    "print(f\"Percent of NAN values in keyword: {round(sum(data['keyword'].isna()) / len(data['keyword']) * 100, 2)}%\")\n",
    "print(f\"Percent of NAN values in location: {round(sum(data['location'].isna()) / len(data['location']) * 100, 2)}%\")"
   ]
  },
  {
   "cell_type": "code",
   "execution_count": 6,
   "id": "192360cd",
   "metadata": {},
   "outputs": [
    {
     "name": "stdout",
     "output_type": "stream",
     "text": [
      "Baseline score: 57.03402075397347\n"
     ]
    },
    {
     "data": {
      "image/png": "[encoded data removed]",
      "text/plain": [
       "<Figure size 432x288 with 1 Axes>"
      ]
     },
     "metadata": {
      "needs_background": "light"
     },
     "output_type": "display_data"
    }
   ],
   "source": [
    "sns.histplot(data, x=\"target\", hue=\"target\", shrink=.8, alpha=.8)\n",
    "print(f\"Baseline score: {len(data[data['target']==0])/len(data['target'])* 100}\")"
   ]
  },
  {
   "cell_type": "markdown",
   "id": "f104af22",
   "metadata": {},
   "source": [
    "## Предобработка данных"
   ]
  },
  {
   "cell_type": "code",
   "execution_count": 8,
   "id": "34cfedf1",
   "metadata": {},
   "outputs": [],
   "source": [
    "from sklearn.feature_extraction.text import CountVectorizer"
   ]
  },
  {
   "cell_type": "code",
   "execution_count": 8,
   "id": "d43448b4",
   "metadata": {},
   "outputs": [
    {
     "data": {
      "text/plain": [
       "0       our deeds are the reason of this #earthquake m...\n",
       "1                  forest fire near la ronge sask. canada\n",
       "2       all residents asked to 'shelter in place' are ...\n",
       "3       13,000 people receive #wildfires evacuation or...\n",
       "4       just got sent this photo from ruby #alaska as ...\n",
       "                              ...                        \n",
       "7608    two giant cranes holding a bridge collapse int...\n",
       "7609    @aria_ahrary @thetawniest the out of control w...\n",
       "7610    m1.94 [01:04 utc]?5km s of volcano hawaii. htt...\n",
       "7611    police investigating after an e-bike collided ...\n",
       "7612    the latest: more homes razed by northern calif...\n",
       "Name: text, Length: 7613, dtype: object"
      ]
     },
     "execution_count": 8,
     "metadata": {},
     "output_type": "execute_result"
    }
   ],
   "source": [
    "data[\"text\"].apply(lambda tweet: tweet.lower())"
   ]
  },
  {
   "cell_type": "code",
   "execution_count": 9,
   "id": "5dd99642",
   "metadata": {},
   "outputs": [],
   "source": [
    "count_vectorizer = CountVectorizer()"
   ]
  },
  {
   "cell_type": "code",
   "execution_count": 10,
   "id": "3cd119f4",
   "metadata": {},
   "outputs": [
    {
     "name": "stdout",
     "output_type": "stream",
     "text": [
      "{'near', 'this', '#earthquake', 'are', 'Canada', 'of', 'asked', 'evacuation', 'ALLAH', 'being', 'expected', 'officers.', 'by', 'Sask.', 'residents', 'the', \"'shelter\", 'Our', 'shelter', 'Forest', 'All', 'notified', \"place'\", 'La', 'fire', 'Forgive', 'to', 'or', 'other', 'Reason', 'Ronge', 'us', 'May', 'orders', 'No', 'in', 'Deeds', 'place', 'all'}\n",
      "The amount of unique words in first three rows: 39\n"
     ]
    }
   ],
   "source": [
    "# Пример построения векторов\n",
    "words = []\n",
    "for text in data.loc[:2, \"text\"].values:\n",
    "    words.extend(text.split())\n",
    "print(set(words))\n",
    "print(f\"The amount of unique words in first three rows: {len(set(words))}\")"
   ]
  },
  {
   "cell_type": "code",
   "execution_count": 11,
   "id": "196a9fbe",
   "metadata": {},
   "outputs": [
    {
     "name": "stdout",
     "output_type": "stream",
     "text": [
      "(3, 36)\n",
      "[[1 1 1 0 0 0 0 1 1 0 0 0 0 1 0 0 1 0 0 0 1 0 0 0 0 1 0 1 0 0 0 0 1 1 0 1]\n",
      " [0 0 0 0 0 0 1 0 0 0 0 1 1 0 0 1 0 1 0 0 0 0 0 0 0 0 0 0 0 1 1 0 0 0 0 0]\n",
      " [1 0 2 1 1 1 0 0 0 1 1 0 0 0 2 0 0 0 1 1 0 1 1 1 1 0 2 0 1 0 0 2 0 0 1 0]]\n"
     ]
    }
   ],
   "source": [
    "example_vectors =  count_vectorizer.fit_transform(data.loc[:2, \"text\"])\n",
    "print(example_vectors.shape)\n",
    "print(example_vectors.todense())"
   ]
  },
  {
   "cell_type": "code",
   "execution_count": 12,
   "id": "656e198e",
   "metadata": {},
   "outputs": [
    {
     "data": {
      "text/plain": [
       "matrix([[1, 1, 1, 0, 0, 0, 0, 1, 1, 0, 0, 0, 0, 1, 0, 0, 1, 0, 0, 0, 1,\n",
       "         0, 0, 0, 0, 1, 0, 1, 0, 0, 0, 0, 1, 1, 0, 1],\n",
       "        [0, 0, 0, 0, 0, 0, 1, 0, 0, 0, 0, 1, 1, 0, 0, 1, 0, 1, 0, 0, 0,\n",
       "         0, 0, 0, 0, 0, 0, 0, 0, 1, 1, 0, 0, 0, 0, 0]], dtype=int64)"
      ]
     },
     "execution_count": 12,
     "metadata": {},
     "output_type": "execute_result"
    }
   ],
   "source": [
    "sep_index = int(0.7*example_vectors.shape[0])\n",
    "example_vectors[:sep_index].todense()"
   ]
  },
  {
   "cell_type": "code",
   "execution_count": 13,
   "id": "c6999487",
   "metadata": {},
   "outputs": [
    {
     "name": "stdout",
     "output_type": "stream",
     "text": [
      "(7613, 21637) (3263, 21637)\n"
     ]
    }
   ],
   "source": [
    "# Преобразование данных в векторы\n",
    "text_vectors = count_vectorizer.fit_transform(data.text)\n",
    "# Тестовую выборку необходимо преобразовать тем же алгоритмом, который был применен к обучающей выборке\n",
    "test_text_vectors = count_vectorizer.transform(test_data.text)\n",
    "print((text_vectors.todense()).shape, (test_text_vectors.todense()).shape)"
   ]
  },
  {
   "cell_type": "code",
   "execution_count": 14,
   "id": "7c8b9ca1",
   "metadata": {},
   "outputs": [
    {
     "data": {
      "text/plain": [
       "((5329, 21637), (2284, 21637), (5329,), (2284,))"
      ]
     },
     "execution_count": 14,
     "metadata": {},
     "output_type": "execute_result"
    }
   ],
   "source": [
    "# Разбиение тренировочных данных на тренировычную и тестовую подвыборки\n",
    "sep_index = int(text_vectors.shape[0]*0.7)\n",
    "\n",
    "X_train_vectors, X_valid_vectors = text_vectors[:sep_index], text_vectors[sep_index:]\n",
    "y_train, y_valid  = data[\"target\"][:sep_index], data[\"target\"][sep_index:]\n",
    "\n",
    "X_train_vectors.shape, X_valid_vectors.shape, y_train.shape, y_valid.shape"
   ]
  },
  {
   "cell_type": "markdown",
   "id": "8af6d4ac",
   "metadata": {},
   "source": [
    "## Построение классификатора только на основе текста каждого из твитов"
   ]
  },
  {
   "cell_type": "code",
   "execution_count": 154,
   "id": "d7f168b9",
   "metadata": {},
   "outputs": [],
   "source": [
    "from sklearn.linear_model import LogisticRegression"
   ]
  },
  {
   "cell_type": "code",
   "execution_count": 16,
   "id": "0cf13c30",
   "metadata": {},
   "outputs": [],
   "source": [
    "lr = LogisticRegression(n_jobs=-1, max_iter=500)"
   ]
  },
  {
   "cell_type": "code",
   "execution_count": 17,
   "id": "de9d3294",
   "metadata": {},
   "outputs": [
    {
     "data": {
      "text/plain": [
       "LogisticRegression(max_iter=500, n_jobs=-1)"
      ]
     },
     "execution_count": 17,
     "metadata": {},
     "output_type": "execute_result"
    }
   ],
   "source": [
    "lr.fit(X_train_vectors, y_train)"
   ]
  },
  {
   "cell_type": "code",
   "execution_count": 18,
   "id": "b71d3dca",
   "metadata": {},
   "outputs": [
    {
     "data": {
      "text/plain": [
       "0.7675131348511384"
      ]
     },
     "execution_count": 18,
     "metadata": {},
     "output_type": "execute_result"
    }
   ],
   "source": [
    "lr.score(X_valid_vectors, y_valid)"
   ]
  },
  {
   "cell_type": "markdown",
   "id": "ea9bc50b",
   "metadata": {},
   "source": [
    "# Добавление новых признаков"
   ]
  },
  {
   "cell_type": "code",
   "execution_count": 19,
   "id": "3c86b389",
   "metadata": {},
   "outputs": [],
   "source": [
    "from scipy.sparse import csr_matrix"
   ]
  },
  {
   "cell_type": "code",
   "execution_count": 20,
   "id": "97566bc5",
   "metadata": {},
   "outputs": [],
   "source": [
    "new_data_features = pd.DataFrame(index=data.index)\n",
    "new_test_features = pd.DataFrame(index=test_data.index)"
   ]
  },
  {
   "cell_type": "code",
   "execution_count": 21,
   "id": "b923a414",
   "metadata": {},
   "outputs": [
    {
     "data": {
      "text/plain": [
       "221"
      ]
     },
     "execution_count": 21,
     "metadata": {},
     "output_type": "execute_result"
    }
   ],
   "source": [
    "# Добавление ключевых слов\n",
    "data[\"keyword\"].nunique()"
   ]
  },
  {
   "cell_type": "code",
   "execution_count": 22,
   "id": "8ed3c44e",
   "metadata": {},
   "outputs": [],
   "source": [
    "# Уместно будет также представить ключевые слова в виде разряженной матрицы\n",
    "new_data_features = pd.get_dummies(data=data[\"keyword\"], columns=[\"keyword\"], prefix=\"keyword\")\n",
    "new_test_features = pd.get_dummies(data=test_data[\"keyword\"], columns=[\"keyword\"], prefix=\"keyword\")"
   ]
  },
  {
   "cell_type": "code",
   "execution_count": 23,
   "id": "17d275fb",
   "metadata": {},
   "outputs": [
    {
     "data": {
      "text/plain": [
       "3341"
      ]
     },
     "execution_count": 23,
     "metadata": {},
     "output_type": "execute_result"
    }
   ],
   "source": [
    "# матрица станет избыточно большой \n",
    "data[\"location\"].nunique()"
   ]
  },
  {
   "cell_type": "code",
   "execution_count": 24,
   "id": "6dba89ed",
   "metadata": {},
   "outputs": [],
   "source": [
    "# Добавим признак, отражающий содержит ли твит упоминание локации.\n",
    "def column_contains(data, search_column, column_to_find, fill_value=0):\n",
    "    col_mentioned = []\n",
    "    filled_data = data.fillna({column_to_find:fill_value})\n",
    "    for row in filled_data.iterrows():\n",
    "        col_mentioned.append(int(row[1].loc[column_to_find] != 0 and row[1].loc[column_to_find] in row[1].loc[search_column]))\n",
    "    return col_mentioned    "
   ]
  },
  {
   "cell_type": "code",
   "execution_count": 25,
   "id": "29dab104",
   "metadata": {},
   "outputs": [],
   "source": [
    "new_data_features[\"location_mentioned\"] = column_contains(data, \"text\", \"location\")\n",
    "new_test_features[\"location_mentioned\"] = column_contains(test_data, \"text\", \"location\")"
   ]
  },
  {
   "cell_type": "code",
   "execution_count": 26,
   "id": "4675c037",
   "metadata": {},
   "outputs": [
    {
     "data": {
      "text/plain": [
       "'Percent of tweets which contains location in train data is 0.79%'"
      ]
     },
     "execution_count": 26,
     "metadata": {},
     "output_type": "execute_result"
    }
   ],
   "source": [
    "percent = round(len(new_data_features[new_data_features[\"location_mentioned\"] == 1]) / len(new_data_features) * 100, 2)\n",
    "f\"Percent of tweets which contains location in train data is {percent}%\""
   ]
  },
  {
   "cell_type": "code",
   "execution_count": 27,
   "id": "1f003a12",
   "metadata": {},
   "outputs": [],
   "source": [
    "# Добавим признак наличия ссылки в твите\n",
    "new_test_features[\"contains_link\"] = test_data.text.str.contains(\"http://\").apply(int)\n",
    "new_data_features[\"contains_link\"] = data.text.str.contains(\"http://\").apply(int)"
   ]
  },
  {
   "cell_type": "code",
   "execution_count": 28,
   "id": "7924f034",
   "metadata": {},
   "outputs": [
    {
     "data": {
      "text/plain": [
       "0    4009\n",
       "1    3604\n",
       "Name: contains_link, dtype: int64"
      ]
     },
     "execution_count": 28,
     "metadata": {},
     "output_type": "execute_result"
    }
   ],
   "source": [
    "new_data_features[\"contains_link\"].value_counts()"
   ]
  },
  {
   "cell_type": "code",
   "execution_count": 15,
   "id": "08cf991c",
   "metadata": {},
   "outputs": [],
   "source": [
    "import re\n",
    "# Добавим признак, отражающий является ли данный твит ответом\n",
    "def is_answer(tweet):\n",
    "    pattern  = r\"@\\w+\"\n",
    "    if re.search(pattern, tweet):\n",
    "        return 1\n",
    "    else:\n",
    "        return 0"
   ]
  },
  {
   "cell_type": "code",
   "execution_count": 30,
   "id": "9e42456f",
   "metadata": {},
   "outputs": [
    {
     "data": {
      "text/plain": [
       "0    5604\n",
       "1    2009\n",
       "Name: is_answer, dtype: int64"
      ]
     },
     "execution_count": 30,
     "metadata": {},
     "output_type": "execute_result"
    }
   ],
   "source": [
    "new_data_features[\"is_answer\"] = data[\"text\"].apply(is_answer)\n",
    "new_test_features[\"is_answer\"] = test_data[\"text\"].apply(is_answer)\n",
    "new_data_features[\"is_answer\"].value_counts()"
   ]
  },
  {
   "cell_type": "markdown",
   "id": "70bef205",
   "metadata": {},
   "source": [
    "## Преобразование новых признаков"
   ]
  },
  {
   "cell_type": "code",
   "execution_count": 31,
   "id": "9c2e45b2",
   "metadata": {},
   "outputs": [],
   "source": [
    "# Представления новых признаков в формате разряженной матрицы\n",
    "sparsed_new_data_features = csr_matrix(new_data_features.values)\n",
    "sparsed_new_test_features = csr_matrix(new_test_features.values)"
   ]
  },
  {
   "cell_type": "code",
   "execution_count": 32,
   "id": "f5618d02",
   "metadata": {},
   "outputs": [
    {
     "data": {
      "text/plain": [
       "((5329, 224), (2284, 224))"
      ]
     },
     "execution_count": 32,
     "metadata": {},
     "output_type": "execute_result"
    }
   ],
   "source": [
    "sparsed_new_train_features = sparsed_new_data_features[:sep_index]\n",
    "sparsed_new_valid_features = sparsed_new_data_features[sep_index:]\n",
    "sparsed_new_train_features.shape, sparsed_new_valid_features.shape"
   ]
  },
  {
   "cell_type": "code",
   "execution_count": 33,
   "id": "c205f34c",
   "metadata": {},
   "outputs": [],
   "source": [
    "new_X_train_vectors = hstack([X_train_vectors, sparsed_new_train_features])\n",
    "new_X_valid_vectors = hstack([X_valid_vectors, sparsed_new_valid_features])"
   ]
  },
  {
   "cell_type": "code",
   "execution_count": 34,
   "id": "9d905d4d",
   "metadata": {},
   "outputs": [
    {
     "data": {
      "text/plain": [
       "((5329, 21861), (2284, 21861))"
      ]
     },
     "execution_count": 34,
     "metadata": {},
     "output_type": "execute_result"
    }
   ],
   "source": [
    "new_X_train_vectors.shape, new_X_valid_vectors.shape"
   ]
  },
  {
   "cell_type": "markdown",
   "id": "ca4572b8",
   "metadata": {},
   "source": [
    "## Построение модели с учетом новых признаков "
   ]
  },
  {
   "cell_type": "code",
   "execution_count": 35,
   "id": "481be08c",
   "metadata": {},
   "outputs": [
    {
     "data": {
      "text/plain": [
       "0.771015761821366"
      ]
     },
     "execution_count": 35,
     "metadata": {},
     "output_type": "execute_result"
    }
   ],
   "source": [
    "new_lr = LogisticRegression(n_jobs=-1, max_iter=500)\n",
    "new_lr.fit(new_X_train_vectors, y_train)\n",
    "new_lr.score(new_X_valid_vectors, y_valid)"
   ]
  },
  {
   "cell_type": "markdown",
   "id": "07b747ec",
   "metadata": {},
   "source": [
    "Результат превышает прежыжущую версию модели всего на один процент, что неприемлемо.\n",
    "Это может происходит в следствие того что столбец is_answer создает мультиколлинеарность со всеми столбцами, отображающие ответы;\n",
    "Также пока не был в полной мере учтен признак локации "
   ]
  },
  {
   "cell_type": "code",
   "execution_count": 36,
   "id": "5223d762",
   "metadata": {},
   "outputs": [],
   "source": [
    "# Добавим к новым признакам так же локацию в формате разряженной матрицы\n",
    "location_dummies = pd.DataFrame(index=data.index)\n",
    "location_test_dummies = pd.DataFrame(index=test_data.index)"
   ]
  },
  {
   "cell_type": "code",
   "execution_count": 37,
   "id": "68d5d8c6",
   "metadata": {},
   "outputs": [],
   "source": [
    "location_dummies = pd.get_dummies(data[\"location\"], prefix=\"loc\")\n",
    "location_test_dummies = pd.get_dummies(test_data[\"location\"], prefix=\"loc\")"
   ]
  },
  {
   "cell_type": "code",
   "execution_count": 38,
   "id": "f7c89522",
   "metadata": {},
   "outputs": [],
   "source": [
    "new_data_features = new_data_features.join(location_dummies)\n",
    "new_test_features = new_test_features.join(location_test_dummies)"
   ]
  },
  {
   "cell_type": "code",
   "execution_count": 6,
   "id": "2247210d",
   "metadata": {},
   "outputs": [],
   "source": [
    "# Внесем в наши исходные данные колонку, отражающую является ли твит ответом,\n",
    "# А потом удалим из текста все слова, содержащие символ \"@\"\n",
    "\n",
    "def delete_answers(tweet):\n",
    "    pattern = r\"@\\w+\"\n",
    "    return re.sub(pattern, \"\", tweet)\n",
    "\n",
    "data[\"is_answer\"] = data[\"text\"].apply(is_answer)\n",
    "data[\"text\"] = data[\"text\"].apply(delete_answers)"
   ]
  },
  {
   "cell_type": "code",
   "execution_count": 40,
   "id": "e0bf396d",
   "metadata": {},
   "outputs": [],
   "source": [
    "test_data[\"is_answer\"] = test_data[\"text\"].apply(is_answer)\n",
    "test_data[\"text\"] = test_data[\"text\"].apply(delete_answers)"
   ]
  },
  {
   "cell_type": "code",
   "execution_count": 41,
   "id": "00cfe918",
   "metadata": {},
   "outputs": [
    {
     "name": "stdout",
     "output_type": "stream",
     "text": [
      "(7613, 19425) (3263, 19425)\n"
     ]
    }
   ],
   "source": [
    "count_vec = CountVectorizer()\n",
    "text_vectors = count_vec.fit_transform(data.text)\n",
    "# Тестовую выборку необходимо преобразовать тем же алгоритмом, который был применен к обучающей выборке\n",
    "test_text_vectors = count_vec.transform(test_data.text)\n",
    "print((text_vectors.todense()).shape, (test_text_vectors.todense()).shape)"
   ]
  },
  {
   "cell_type": "code",
   "execution_count": 42,
   "id": "36b04de3",
   "metadata": {},
   "outputs": [],
   "source": [
    "sparsed_new_data_features = csr_matrix(new_data_features.values)\n",
    "sparsed_new_test_features = csr_matrix(new_test_features.values)"
   ]
  },
  {
   "cell_type": "code",
   "execution_count": 43,
   "id": "60faf8dc",
   "metadata": {},
   "outputs": [],
   "source": [
    "X_train_vectors, X_valid_vectors = text_vectors[:sep_index], text_vectors[sep_index:]"
   ]
  },
  {
   "cell_type": "code",
   "execution_count": 44,
   "id": "f7505d83",
   "metadata": {},
   "outputs": [],
   "source": [
    "sparsed_new_train_features = sparsed_new_data_features[:sep_index]\n",
    "sparsed_new_valid_features = sparsed_new_data_features[sep_index:]"
   ]
  },
  {
   "cell_type": "code",
   "execution_count": 45,
   "id": "d3e7a6ed",
   "metadata": {},
   "outputs": [],
   "source": [
    "new_X_train_vectors = hstack([X_train_vectors, sparsed_new_train_features])\n",
    "new_X_valid_vectors = hstack([X_valid_vectors, sparsed_new_valid_features])"
   ]
  },
  {
   "cell_type": "markdown",
   "id": "8b8f5b7f",
   "metadata": {},
   "source": [
    "## Построение модели, в которой учтена локация, а размерность снижена путем удаления меток ответов "
   ]
  },
  {
   "cell_type": "code",
   "execution_count": 46,
   "id": "1f4a6635",
   "metadata": {},
   "outputs": [
    {
     "data": {
      "text/plain": [
       "0.7644483362521891"
      ]
     },
     "execution_count": 46,
     "metadata": {},
     "output_type": "execute_result"
    }
   ],
   "source": [
    "new_lr = LogisticRegression(n_jobs=-1, max_iter=10000)\n",
    "new_lr.fit(new_X_train_vectors, y_train)\n",
    "new_lr.score(new_X_valid_vectors, y_valid)"
   ]
  },
  {
   "cell_type": "markdown",
   "id": "3025ef16",
   "metadata": {},
   "source": [
    "# It was the first attempt"
   ]
  },
  {
   "cell_type": "markdown",
   "id": "64766015",
   "metadata": {},
   "source": [
    "Столбцы location и keyword нельзя было преобразовывать через get_dummies, т.к. он разбивал столбцы на уникальные строки а не на уникальные слова из всех строк. В этот раз применим разбиение на векторы к каждому из этих столбцов"
   ]
  },
  {
   "cell_type": "code",
   "execution_count": 86,
   "id": "62d657f5",
   "metadata": {},
   "outputs": [],
   "source": [
    "# Осстанется в качестве примера, хотя в дальнейшем применнено не будет \n",
    "#new_data[\"text\"] = data[\"text\"] + (\" keyword_\" + data[\"keyword\"]).fillna(\"\") + (\" location_\" + data[\"location\"]).fillna(\"\")"
   ]
  },
  {
   "cell_type": "code",
   "execution_count": 12,
   "id": "e4b354d0",
   "metadata": {},
   "outputs": [],
   "source": [
    "from sklearn.feature_extraction.text import CountVectorizer\n",
    "from scipy.sparse import hstack, csr_matrix\n",
    "from sklearn.model_selection import train_test_split \n",
    "from sklearn.metrics import roc_auc_score"
   ]
  },
  {
   "cell_type": "code",
   "execution_count": 13,
   "id": "fc501b41",
   "metadata": {},
   "outputs": [],
   "source": [
    "class Vectors:\n",
    "    def __init__(self, data:pd.DataFrame, test_data:pd.DataFrame):\n",
    "        self.vectorizer = CountVectorizer()\n",
    "        \n",
    "        self.y = data[\"target\"]\n",
    "        self.data = data.drop(\"target\", axis=\"columns\").copy()\n",
    "        self.test_data = test_data.copy()\n",
    "        \n",
    "        self.data_text_vectors = self.vectorizer.fit_transform(self.data[\"text\"])\n",
    "        self.test_data_text_vectors = self.vectorizer.transform(self.test_data[\"text\"])\n",
    "    \n",
    "        self.data[\"keyword\"].fillna(\"\", inplace=True)\n",
    "        self.test_data[\"keyword\"].fillna(\"\", inplace=True)\n",
    "        self.data_keyword_vectors = self.vectorizer.fit_transform(self.data[\"keyword\"])\n",
    "        self.test_data_keyword_vectors = self.vectorizer.transform(self.test_data[\"keyword\"])\n",
    "        \n",
    "        self.data[\"location\"].fillna(\"\", inplace=True)\n",
    "        self.test_data[\"location\"].fillna(\"\", inplace=True)\n",
    "        self.data_location_vectors = self.vectorizer.fit_transform(self.data[\"location\"])\n",
    "        self.test_data_location_vectors = self.vectorizer.transform(self.test_data[\"location\"])\n",
    "        \n",
    "        self.data_vectors = hstack([self.data_text_vectors, self.data_keyword_vectors, self.data_location_vectors])\n",
    "        self.test_data_vectors = hstack([self.test_data_text_vectors, self.test_data_keyword_vectors, self.test_data_location_vectors])\n",
    "    \n",
    "\n",
    "    def add_feature(self, data_column, test_data_column):    \n",
    "        self.data_vectors = csr_matrix(hstack([self.data_vectors, data_column.values.reshape(-1, 1)]))\n",
    "        self.test_data_vectors = csr_matrix(hstack([self.test_data_vectors, test_data_column.values.reshape(-1, 1)]))\n",
    "        \n",
    "        \n",
    "    def review_text_vectors(self):\n",
    "        self.data_text_vectors = self.vectorizer.fit_transform(self.data[\"text\"])\n",
    "        self.test_data_text_vectors = self.vectorizer.transform(self.test_data[\"text\"])\n",
    "        self.data_vectors = hstack([self.data_text_vectors, self.data_keyword_vectors, self.data_location_vectors])\n",
    "        self.test_data_vectors = hstack([self.test_data_text_vectors, self.test_data_keyword_vectors, self.test_data_location_vectors])\n",
    "        \n",
    "        \n",
    "    def delete_elements(self, change_vectors=True, element=\"answer\"):\n",
    "        patterns = {\"answer\": r\"@\\w+\", \"link\": r\"https?:\\/\\/(www\\.)?[-a-zA-Z0-9@:%._\\+~#=]{1,256}\\.[a-zA-Z0-9()]{1,6}\\b([-a-zA-Z0-9()@:%_\\+.~#?&//=]*)\"}\n",
    "        pattern = patterns.get(element, r\"@\\w+\")\n",
    "        self.data[\"text\"] = self.data[\"text\"].apply(lambda tweet: re.sub(pattern, \"\", tweet))\n",
    "        self.test_data[\"text\"] = self.test_data[\"text\"].apply(lambda tweet: re.sub(pattern, \"\", tweet))\n",
    "        \n",
    "        if change_vectors:\n",
    "            self.review_text_vectors()\n",
    "            \n",
    "            \n",
    "    def get_splitted_vectors(self, train_size=0.7, random_split=False, random_state=17):\n",
    "        if random_split:\n",
    "            X_train_vectors, X_valid_vectors, y_train, y_valid = train_test_split(self.data_vectors,\n",
    "                                                                                                  self.y,\n",
    "                                                                                                  train_size=train_size,\n",
    "                                                                                                  random_state=random_state)\n",
    "        else:\n",
    "            sep_index = int(train_size*self.data_vectors.shape[0])\n",
    "            \n",
    "            X_train_vectors, X_valid_vectors = self.data_vectors[:sep_index], self.data_vectors[sep_index:]\n",
    "            y_train, y_valid = self.y[:sep_index], self.y[sep_index:]\n",
    "        return X_train_vectors, X_valid_vectors, y_train, y_valid"
   ]
  },
  {
   "cell_type": "code",
   "execution_count": 17,
   "id": "c202e930",
   "metadata": {},
   "outputs": [],
   "source": [
    "vectors = Vectors(data, test_data)\n",
    "data_vectors = vectors.data_vectors\n",
    "test_data_vectors = vectors.test_data_vectors"
   ]
  },
  {
   "cell_type": "code",
   "execution_count": 18,
   "id": "130baeae",
   "metadata": {},
   "outputs": [
    {
     "name": "stdout",
     "output_type": "stream",
     "text": [
      "Shape of data_vectors is (7613, 25137)\n",
      "Shape of test_data_vectors is (3263, 25137)\n"
     ]
    }
   ],
   "source": [
    "print(f\"Shape of data_vectors is {data_vectors.shape}\")\n",
    "print(f\"Shape of test_data_vectors is {test_data_vectors.shape}\")"
   ]
  },
  {
   "cell_type": "code",
   "execution_count": 19,
   "id": "86dc0d72",
   "metadata": {},
   "outputs": [
    {
     "data": {
      "text/plain": [
       "((5329, 25137), (2284, 25137), (5329,), (2284,))"
      ]
     },
     "execution_count": 19,
     "metadata": {},
     "output_type": "execute_result"
    }
   ],
   "source": [
    "X_train_vectors, X_valid_vectors, y_train, y_valid = vectors.get_splitted_vectors(random_split=True)\n",
    "X_train_vectors.shape, X_valid_vectors.shape, y_train.shape, y_valid.shape"
   ]
  },
  {
   "cell_type": "markdown",
   "id": "4064e0e0",
   "metadata": {},
   "source": [
    "Опробуем различные комбинации параметров на модели без настройки гиперпараметров"
   ]
  },
  {
   "cell_type": "code",
   "execution_count": 9,
   "id": "8b18f2c9",
   "metadata": {},
   "outputs": [],
   "source": [
    "lr = LogisticRegression(max_iter=500, n_jobs=-1)"
   ]
  },
  {
   "cell_type": "code",
   "execution_count": 10,
   "id": "d2a8bffc",
   "metadata": {},
   "outputs": [],
   "source": [
    "def fit_show_result(X_train, y_train, X_valid, y_valid):\n",
    "    lr.fit(X_train, y_train)\n",
    "    print(f\"Score: {lr.score(X_valid, y_valid)}\")\n",
    "    print(f\"RocAuc: {roc_auc_score(y_valid, lr.predict(X_valid))}\")"
   ]
  },
  {
   "cell_type": "code",
   "execution_count": 20,
   "id": "d4bf9db3",
   "metadata": {},
   "outputs": [
    {
     "name": "stdout",
     "output_type": "stream",
     "text": [
      "Score: 0.8007880910683012\n",
      "RocAuc: 0.790632944956561\n"
     ]
    }
   ],
   "source": [
    "#Исходные данные:\n",
    "fit_show_result(X_train_vectors, y_train, X_valid_vectors, y_valid)"
   ]
  },
  {
   "cell_type": "code",
   "execution_count": 40,
   "id": "1ce6dc7b",
   "metadata": {},
   "outputs": [
    {
     "name": "stdout",
     "output_type": "stream",
     "text": [
      "After adding the 'is_answer' feature:\n",
      "(5329, 25138) (2284, 25138) (5329,) (2284,)\n",
      "\n",
      "After deleting all adresses in every tweet:\n",
      "(5329, 22925) (2284, 22925) (5329,) (2284,)\n",
      "\n",
      "Score: 0.8029772329246935\n",
      "RocAuc: 0.7933788779186748\n"
     ]
    }
   ],
   "source": [
    "# Добавим признак отражающий является ли сообщение ответом и удаоим все адреса из сообщений\n",
    "without_adress_vectors = Vectors(data, test_data)\n",
    "without_adress_vectors.add_feature(data['text'].apply(is_answer), test_data['text'].apply(is_answer))\n",
    "wa_X_train_vectors, wa_X_valid_vectors, wa_y_train, wa_y_valid = without_adress_vectors.get_splitted_vectors(random_split=True)\n",
    "\n",
    "print(\"After adding the 'is_answer' feature:\")\n",
    "print(wa_X_train_vectors.shape, wa_X_valid_vectors.shape, wa_y_train.shape, wa_y_valid.shape, end=\"\\n\\n\")\n",
    "\n",
    "without_adress_vectors.delete_elements(element=\"answer\")\n",
    "wa_X_train_vectors, wa_X_valid_vectors, wa_y_train, wa_y_valid = without_adress_vectors.get_splitted_vectors(random_split=True)\n",
    "\n",
    "print(\"After deleting all adresses in every tweet:\")\n",
    "print(wa_X_train_vectors.shape, wa_X_valid_vectors.shape, wa_y_train.shape, wa_y_valid.shape, end=\"\\n\\n\")\n",
    "\n",
    "fit_show_result(wa_X_train_vectors, wa_y_train, wa_X_valid_vectors, wa_y_valid)"
   ]
  },
  {
   "cell_type": "code",
   "execution_count": 58,
   "id": "32406e7d",
   "metadata": {},
   "outputs": [
    {
     "name": "stdout",
     "output_type": "stream",
     "text": [
      "After adding the 'contains_link' feature:\n",
      "(5329, 25138) (2284, 25138) (5329,) (2284,)\n",
      "\n",
      "After deleting all links in every tweet:\n",
      "(5329, 20540) (2284, 20540) (5329,) (2284,)\n",
      "\n",
      "Score: 0.7955341506129597\n",
      "RocAuc: 0.7852892549093008\n"
     ]
    }
   ],
   "source": [
    "# Добавим признак отражающий содержит ли сообщение ссылку и удаоим все ссыдки из твитов\n",
    "without_link_vectors = Vectors(data, test_data)\n",
    "without_link_vectors.add_feature(data['text'].str.contains(\"http://\").apply(int), test_data['text'].str.contains(\"http://\").apply(int))\n",
    "wl_X_train_vectors, wl_X_valid_vectors, wl_y_train, wl_y_valid = without_link_vectors.get_splitted_vectors(random_split=True)\n",
    "\n",
    "print(\"After adding the 'contains_link' feature:\")\n",
    "print(wl_X_train_vectors.shape, wl_X_valid_vectors.shape, wl_y_train.shape, wl_y_valid.shape, end=\"\\n\\n\")\n",
    "\n",
    "without_link_vectors.delete_elements(element=\"link\")\n",
    "wl_X_train_vectors, wl_X_valid_vectors, wl_y_train, wl_y_valid = without_link_vectors.get_splitted_vectors(random_split=True)\n",
    "\n",
    "print(\"After deleting all links in every tweet:\")\n",
    "print(wl_X_train_vectors.shape, wl_X_valid_vectors.shape, wl_y_train.shape, wl_y_valid.shape, end=\"\\n\\n\")\n",
    "\n",
    "#set(without_link_vectors.data[\"text\"])\n",
    "fit_show_result(wl_X_train_vectors, wl_y_train, wl_X_valid_vectors, wl_y_valid)"
   ]
  },
  {
   "cell_type": "code",
   "execution_count": 16,
   "id": "282da212",
   "metadata": {},
   "outputs": [
    {
     "name": "stdout",
     "output_type": "stream",
     "text": [
      "After adding the bobth of features:\n",
      "(5329, 25139) (2284, 25139) (5329,) (2284,)\n",
      "\n",
      "After deleting the both types of elements in every tweet:\n",
      "(5329, 18328) (2284, 18328) (5329,) (2284,)\n",
      "\n",
      "Score: 0.7981611208406305\n",
      "RocAuc: 0.7883073635612122\n"
     ]
    }
   ],
   "source": [
    "# Удалим и ответы и ссылкиб добавив соотвеетствующие признаки\n",
    "wla_vectors =  Vectors(data, test_data)\n",
    "\n",
    "wla_vectors.add_feature(data['text'].str.contains(\"http://\").apply(int), test_data['text'].str.contains(\"http://\").apply(int))\n",
    "wla_vectors.add_feature(data['text'].apply(is_answer), test_data['text'].apply(is_answer))\n",
    "wla_X_train_vectors, wla_X_valid_vectors, wla_y_train, wla_y_valid = wla_vectors.get_splitted_vectors(random_split=True)\n",
    "\n",
    "\n",
    "print(\"After adding the bobth of features:\")\n",
    "print(wla_X_train_vectors.shape, wla_X_valid_vectors.shape, wla_y_train.shape, wla_y_valid.shape, end=\"\\n\\n\")\n",
    "\n",
    "wla_vectors.delete_elements(element=\"link\")\n",
    "wla_vectors.delete_elements(element=\"anser\")\n",
    "wla_X_train_vectors, wla_X_valid_vectors, wla_y_train, wla_y_valid = wla_vectors.get_splitted_vectors(random_split=True)\n",
    "\n",
    "print(\"After deleting the both types of elements in every tweet:\")\n",
    "print(wla_X_train_vectors.shape, wla_X_valid_vectors.shape, wla_y_train.shape, wla_y_valid.shape, end=\"\\n\\n\")\n",
    "\n",
    "fit_show_result(wla_X_train_vectors, wla_y_train, wla_X_valid_vectors, wla_y_valid)"
   ]
  },
  {
   "cell_type": "markdown",
   "id": "82708a6f",
   "metadata": {},
   "source": [
    "The best result was shown by model which includes feature that demonstrates does the paticular tweet contains adress of an answer, but text vectors doesn't include adresses. And shape of that dataset is (7613, 22925).\n",
    "Nevertheless the model that contains only 18328 columns shows not strongly different result."
   ]
  },
  {
   "cell_type": "markdown",
   "id": "e44745f7",
   "metadata": {},
   "source": [
    "## Regularize logistic regression with the best dataset"
   ]
  },
  {
   "cell_type": "code",
   "execution_count": 19,
   "id": "924d67ac",
   "metadata": {},
   "outputs": [],
   "source": [
    "from sklearn.linear_model import LogisticRegressionCV\n",
    "from sklearn.model_selection import StratifiedKFold"
   ]
  },
  {
   "cell_type": "code",
   "execution_count": 46,
   "id": "c91eb5f1",
   "metadata": {},
   "outputs": [
    {
     "name": "stderr",
     "output_type": "stream",
     "text": [
      "[Parallel(n_jobs=2)]: Using backend LokyBackend with 2 concurrent workers.\n",
      "[Parallel(n_jobs=2)]: Done   5 out of   5 | elapsed:  2.0min finished\n"
     ]
    },
    {
     "data": {
      "text/plain": [
       "LogisticRegressionCV(Cs=array([  1.  ,   1.99,   2.98,   3.97,   4.96,   5.95,   6.94,   7.93,\n",
       "         8.92,   9.91,  10.9 ,  11.89,  12.88,  13.87,  14.86,  15.85,\n",
       "        16.84,  17.83,  18.82,  19.81,  20.8 ,  21.79,  22.78,  23.77,\n",
       "        24.76,  25.75,  26.74,  27.73,  28.72,  29.71,  30.7 ,  31.69,\n",
       "        32.68,  33.67,  34.66,  35.65,  36.64,  37.63,  38.62,  39.61,\n",
       "        40.6 ,  41.59,  42.58,  43.57,  44.56,  45.55,  46.54,  47.53,\n",
       "        48.52,  49.51,  50.5 ,  51.49,  52.48,  53.47,  54.46,  55.45,\n",
       "        56.44,  57.43,  58.42,  59.41,  60.4 ,  61.39,  62.38,  63.37,\n",
       "        64.36,  65.35,  66.34,  67.33,  68.32,  69.31,  70.3 ,  71.29,\n",
       "        72.28,  73.27,  74.26,  75.25,  76.24,  77.23,  78.22,  79.21,\n",
       "        80.2 ,  81.19,  82.18,  83.17,  84.16,  85.15,  86.14,  87.13,\n",
       "        88.12,  89.11,  90.1 ,  91.09,  92.08,  93.07,  94.06,  95.05,\n",
       "        96.04,  97.03,  98.02,  99.01, 100.  ]),\n",
       "                     cv=StratifiedKFold(n_splits=5, random_state=17, shuffle=True),\n",
       "                     n_jobs=2, verbose=1)"
      ]
     },
     "execution_count": 46,
     "metadata": {},
     "output_type": "execute_result"
    }
   ],
   "source": [
    "skf = StratifiedKFold(n_splits=5, shuffle=True, random_state=17)\n",
    "c_values = np.linspace(1, 100, 101)\n",
    "\n",
    "lr_cv = LogisticRegressionCV(Cs=c_values, cv=skf, verbose=1, n_jobs=2)\n",
    "lr_cv.fit(wa_X_train_vectors, wa_y_train)"
   ]
  },
  {
   "cell_type": "code",
   "execution_count": 53,
   "id": "3c276803",
   "metadata": {},
   "outputs": [
    {
     "data": {
      "text/plain": [
       "<AxesSubplot:>"
      ]
     },
     "execution_count": 53,
     "metadata": {},
     "output_type": "execute_result"
    },
    {
     "data": {
      "image/png": "[encoded data removed]",
      "text/plain": [
       "<Figure size 432x288 with 1 Axes>"
      ]
     },
     "metadata": {
      "needs_background": "light"
     },
     "output_type": "display_data"
    }
   ],
   "source": [
    "sns.lineplot(x=c_values, y=np.mean(lr_cv.scores_[1], axis=0))"
   ]
  },
  {
   "cell_type": "code",
   "execution_count": 55,
   "id": "c4f62143",
   "metadata": {},
   "outputs": [
    {
     "name": "stderr",
     "output_type": "stream",
     "text": [
      "[Parallel(n_jobs=2)]: Using backend LokyBackend with 2 concurrent workers.\n",
      "[Parallel(n_jobs=2)]: Done   5 out of   5 | elapsed:   42.3s finished\n"
     ]
    },
    {
     "data": {
      "text/plain": [
       "LogisticRegressionCV(Cs=array([1.00000000e-20, 2.04081633e-02, 4.08163265e-02, 6.12244898e-02,\n",
       "       8.16326531e-02, 1.02040816e-01, 1.22448980e-01, 1.42857143e-01,\n",
       "       1.63265306e-01, 1.83673469e-01, 2.04081633e-01, 2.24489796e-01,\n",
       "       2.44897959e-01, 2.65306122e-01, 2.85714286e-01, 3.06122449e-01,\n",
       "       3.26530612e-01, 3.46938776e-01, 3.67346939e-01, 3.87755102e-01,\n",
       "       4.08163265e-01, 4.28...\n",
       "       6.53061224e-01, 6.73469388e-01, 6.93877551e-01, 7.14285714e-01,\n",
       "       7.34693878e-01, 7.55102041e-01, 7.75510204e-01, 7.95918367e-01,\n",
       "       8.16326531e-01, 8.36734694e-01, 8.57142857e-01, 8.77551020e-01,\n",
       "       8.97959184e-01, 9.18367347e-01, 9.38775510e-01, 9.59183673e-01,\n",
       "       9.79591837e-01, 1.00000000e+00]),\n",
       "                     cv=StratifiedKFold(n_splits=5, random_state=17, shuffle=True),\n",
       "                     n_jobs=2, verbose=1)"
      ]
     },
     "execution_count": 55,
     "metadata": {},
     "output_type": "execute_result"
    }
   ],
   "source": [
    "c_values = np.linspace(1*10**(-20), 1, 50)\n",
    "\n",
    "lr_cv = LogisticRegressionCV(Cs=c_values, cv=skf, verbose=1, n_jobs=2)\n",
    "lr_cv.fit(wa_X_train_vectors, wa_y_train)"
   ]
  },
  {
   "cell_type": "code",
   "execution_count": 57,
   "id": "26a944db",
   "metadata": {},
   "outputs": [
    {
     "name": "stdout",
     "output_type": "stream",
     "text": [
      "0.7941454606312044\n"
     ]
    },
    {
     "data": {
      "image/png": "[encoded data removed]",
      "text/plain": [
       "<Figure size 432x288 with 1 Axes>"
      ]
     },
     "metadata": {
      "needs_background": "light"
     },
     "output_type": "display_data"
    }
   ],
   "source": [
    "sns.lineplot(x=c_values, y=np.mean(lr_cv.scores_[1], axis=0))\n",
    "print(np.mean(lr_cv.scores_[1], axis=0).max())"
   ]
  },
  {
   "cell_type": "code",
   "execution_count": 59,
   "id": "83fbb3ae",
   "metadata": {},
   "outputs": [
    {
     "data": {
      "text/plain": [
       "LogisticRegression(C=0.8)"
      ]
     },
     "execution_count": 59,
     "metadata": {},
     "output_type": "execute_result"
    }
   ],
   "source": [
    "res_lr = LogisticRegression(C=0.8)\n",
    "res_lr.fit(wa_X_train_vectors, wa_y_train)"
   ]
  },
  {
   "cell_type": "code",
   "execution_count": 60,
   "id": "57c9f209",
   "metadata": {},
   "outputs": [
    {
     "data": {
      "text/plain": [
       "0.8051663747810858"
      ]
     },
     "execution_count": 60,
     "metadata": {},
     "output_type": "execute_result"
    }
   ],
   "source": [
    "res_lr.score(wa_X_valid_vectors, wa_y_valid)"
   ]
  },
  {
   "cell_type": "markdown",
   "id": "a35a6109",
   "metadata": {},
   "source": [
    "## Sending answers to Kaggle"
   ]
  },
  {
   "cell_type": "code",
   "execution_count": 64,
   "id": "f66ada69",
   "metadata": {},
   "outputs": [],
   "source": [
    "test_vectors = without_adress_vectors.test_data_vectors\n",
    "predictions = res_lr.predict(test_vectors)"
   ]
  },
  {
   "cell_type": "code",
   "execution_count": null,
   "id": "2a93d633",
   "metadata": {},
   "outputs": [],
   "source": []
  },
  {
   "cell_type": "code",
   "execution_count": null,
   "id": "be70439f",
   "metadata": {},
   "outputs": [],
   "source": []
  },
  {
   "cell_type": "code",
   "execution_count": null,
   "id": "78792a34",
   "metadata": {},
   "outputs": [],
   "source": []
  },
  {
   "cell_type": "code",
   "execution_count": null,
   "id": "3a21e7f2",
   "metadata": {},
   "outputs": [],
   "source": []
  }
 ],
 "metadata": {
  "kernelspec": {
   "display_name": "Python 3 (ipykernel)",
   "language": "python",
   "name": "python3"
  },
  "language_info": {
   "codemirror_mode": {
    "name": "ipython",
    "version": 3
   },
   "file_extension": ".py",
   "mimetype": "text/x-python",
   "name": "python",
   "nbconvert_exporter": "python",
   "pygments_lexer": "ipython3",
   "version": "3.9.12"
  }
 },
 "nbformat": 4,
 "nbformat_minor": 5
}
